{
 "cells": [
  {
   "cell_type": "markdown",
   "id": "7a35d185-5e7d-4015-a397-e6e9c2d49d94",
   "metadata": {},
   "source": [
    "#  Data Science Tools and Ecosystem\n"
   ]
  },
  {
   "cell_type": "markdown",
   "id": "403ea403-53ca-48f6-9caa-71714493c7c3",
   "metadata": {},
   "source": [
    "##  In this notebook, Data Science Tools and Ecosystem are summarized."
   ]
  },
  {
   "cell_type": "markdown",
   "id": "8185f93a-3459-4ea6-a21f-b9eb8f9d76ae",
   "metadata": {},
   "source": [
    "### Objectives:\n",
    "- List of some popular languages that Data Scientists use\n",
    "- List of commonly used libraries used by Data Scientists\n",
    "- List of Data Science tools\n",
    "- Examples of evaluating arithmetic expressions in Python\n"
   ]
  },
  {
   "cell_type": "markdown",
   "id": "2ecfd01a-f36e-4956-8313-6635b5970c5f",
   "metadata": {},
   "source": [
    "###  Some of the popular languages that Data Scientists use are:"
   ]
  },
  {
   "cell_type": "markdown",
   "id": "ce6d9cdd-0c90-48d3-b48e-468a924e2955",
   "metadata": {},
   "source": [
    "1. Python\n",
    "2. R\n",
    "3. SQL\n",
    "4. Julia\n",
    "5. Java\n",
    "6. Scala"
   ]
  },
  {
   "cell_type": "markdown",
   "id": "12d1780f-2686-4d7a-88f0-8f47923f5e49",
   "metadata": {},
   "source": [
    "### Some of the commonly used libraries used by Data Scientists include:"
   ]
  },
  {
   "cell_type": "markdown",
   "id": "ec6fba50-0392-42f8-8ca4-d11414c1dd81",
   "metadata": {},
   "source": [
    "1. Numpy\n",
    "2. Scit-learn\n",
    "3. Seaborn\n",
    "4. Pandas\n",
    "5. Matplotlib\n",
    "6. TensorFlow\n",
    "7. PyTorch"
   ]
  },
  {
   "cell_type": "markdown",
   "id": "a1b0a828-5927-4da6-b6d9-b23e77873755",
   "metadata": {},
   "source": [
    "| Data Science Tools|\n",
    "|-------------------|\n",
    "| Jupyter Notebook|\n",
    "| RStudio|\n",
    "| Visual Studio Code|"
   ]
  },
  {
   "cell_type": "markdown",
   "id": "c11d9866-ce7f-44a4-ab66-8594e5aa1560",
   "metadata": {},
   "source": [
    "### Below are a few examples of evaluating arithmetic expressions in Python"
   ]
  },
  {
   "cell_type": "code",
   "execution_count": 16,
   "id": "b3b159e8-7a88-4857-bb5e-b5491b8f7b1c",
   "metadata": {},
   "outputs": [
    {
     "data": {
      "text/plain": [
       "17"
      ]
     },
     "execution_count": 16,
     "metadata": {},
     "output_type": "execute_result"
    }
   ],
   "source": [
    "### This a simple arithmetic expression to multiply then add integers\n",
    "(3*4) + 5"
   ]
  },
  {
   "cell_type": "code",
   "execution_count": 21,
   "id": "6232ae9c-fddf-46f7-b1a7-f6fc5c86e48f",
   "metadata": {},
   "outputs": [
    {
     "data": {
      "text/plain": [
       "3.3333333333333335"
      ]
     },
     "execution_count": 21,
     "metadata": {},
     "output_type": "execute_result"
    }
   ],
   "source": [
    "### This will convert 200 minutes to hours by diving by 60\n",
    "minutes = 200\n",
    "hours = minutes / 60\n",
    "hours "
   ]
  },
  {
   "cell_type": "markdown",
   "id": "d74092a2-373a-4bc7-93f7-2749c069ab0f",
   "metadata": {},
   "source": [
    "## Author Jerónimo Viggiani Luján"
   ]
  },
  {
   "cell_type": "code",
   "execution_count": null,
   "id": "ce506cc4-d92c-464a-8fe2-6a6f91c65074",
   "metadata": {},
   "outputs": [],
   "source": []
  }
 ],
 "metadata": {
  "kernelspec": {
   "display_name": "anaconda-2022.05-py39",
   "language": "python",
   "name": "conda-env-anaconda-2022.05-py39-py"
  },
  "language_info": {
   "codemirror_mode": {
    "name": "ipython",
    "version": 3
   },
   "file_extension": ".py",
   "mimetype": "text/x-python",
   "name": "python",
   "nbconvert_exporter": "python",
   "pygments_lexer": "ipython3",
   "version": "3.9.12"
  }
 },
 "nbformat": 4,
 "nbformat_minor": 5
}
